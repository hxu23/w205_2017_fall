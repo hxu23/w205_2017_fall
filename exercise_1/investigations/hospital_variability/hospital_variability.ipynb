{
 "cells": [
  {
   "cell_type": "code",
   "execution_count": 1,
   "metadata": {
    "collapsed": true
   },
   "outputs": [],
   "source": [
    "import os, sys\n",
    "sys.path.append('/data/spark15/python/')"
   ]
  },
  {
   "cell_type": "code",
   "execution_count": 2,
   "metadata": {
    "collapsed": true
   },
   "outputs": [],
   "source": [
    "%matplotlib inline\n",
    "import matplotlib.pyplot as plt\n",
    "plt.rcParams['figure.figsize'] = (18, 9)\n",
    "import seaborn as sb\n",
    "import numpy as np\n",
    "import pandas as pd\n",
    "\n",
    "from pyspark import SparkContext\n",
    "from pyspark.sql import SQLContext\n",
    "from pyspark.sql import HiveContext\n",
    "from pyspark.sql.types import *\n",
    "import pyspark.sql.functions\n",
    "\n",
    "sc = SparkContext(\"local\", \"hospital_compare\")\n",
    "sqlContext = SQLContext(sc)\n",
    "hc = HiveContext(sc)"
   ]
  },
  {
   "cell_type": "code",
   "execution_count": 3,
   "metadata": {},
   "outputs": [
    {
     "name": "stdout",
     "output_type": "stream",
     "text": [
      "[u'effective_care', u'effective_care_scores', u'hospitals', u'hospitals_reduced', u'measures', u'readmissions', u'readmissions_reduced', u'survey_responses', u'survey_responses_reduced']\n"
     ]
    }
   ],
   "source": [
    "print(hc.tableNames())"
   ]
  },
  {
   "cell_type": "markdown",
   "metadata": {},
   "source": [
    "### Which procedures have the greatest variability between hospitals?"
   ]
  },
  {
   "cell_type": "code",
   "execution_count": 4,
   "metadata": {
    "collapsed": true
   },
   "outputs": [],
   "source": [
    "hospitals = hc.sql('select * from hospitals_reduced').toPandas()\n",
    "effective_care = hc.sql('select * from effective_care_scores').toPandas()"
   ]
  },
  {
   "cell_type": "code",
   "execution_count": 5,
   "metadata": {
    "collapsed": true
   },
   "outputs": [],
   "source": [
    "df = pd.merge(hospitals, effective_care, how='inner', left_on='provider_id', right_on='provider_id')"
   ]
  },
  {
   "cell_type": "code",
   "execution_count": 15,
   "metadata": {},
   "outputs": [],
   "source": [
    "results = df.set_index(['provider_id', 'hospital_name', 'measure_id'])[['score']].unstack()\n",
    "results = results.apply(pd.to_numeric)\n",
    "results.loc[:, 'Average_Score'] = results.mean(axis=1)\n",
    "results.loc[:, 'StDev_Score'] = results.std(axis=1)"
   ]
  },
  {
   "cell_type": "code",
   "execution_count": 18,
   "metadata": {},
   "outputs": [
    {
     "data": {
      "text/plain": [
       "               measure_id            \n",
       "score          VTE_5                     4.949747\n",
       "               OP_23                     3.817254\n",
       "               IMM_3_OP_27_FAC_ADHPCT    3.492850\n",
       "               OP_29                     3.289455\n",
       "               IMM_2                     3.010084\n",
       "               OP_30                     2.991534\n",
       "               ED_2b                     2.833043\n",
       "               VTE_6                     2.383159\n",
       "               OP_5                      2.266249\n",
       "               STK_4                     2.242448\n",
       "               OP_20                     2.176601\n",
       "               PC_01                     2.028334\n",
       "Average_Score                            1.731197\n",
       "score          OP_22                     1.555471\n",
       "StDev_Score                              1.265789\n",
       "score          OP_31                     0.000000\n",
       "               ED_1b                          NaN\n",
       "               OP_1                           NaN\n",
       "               OP_18b                         NaN\n",
       "               OP_2                           NaN\n",
       "               OP_21                          NaN\n",
       "               OP_3b                          NaN\n",
       "               OP_4                           NaN\n",
       "dtype: float64"
      ]
     },
     "execution_count": 18,
     "metadata": {},
     "output_type": "execute_result"
    }
   ],
   "source": [
    "results.std(axis=0).sort_values(ascending=False)"
   ]
  },
  {
   "cell_type": "code",
   "execution_count": 22,
   "metadata": {},
   "outputs": [
    {
     "data": {
      "text/plain": [
       "[(u'ED_1b', u'ED1'),\n",
       " (u'ED_2b', u'ED2'),\n",
       " (u'IMM_2', u'Immunization for influenza'),\n",
       " (u'IMM_3_OP_27_FAC_ADHPCT',\n",
       "  u'Healthcare workers given influenza vaccination'),\n",
       " (u'OP_18b', u'OP 18'),\n",
       " (u'OP_20', u'Door to diagnostic eval'),\n",
       " (u'OP_21', u'Median time to pain med'),\n",
       " (u'OP_22', u'Left before being seen'),\n",
       " (u'OP_29',\n",
       "  u'Endoscopy/polyp surveillance: appropriate follow-up interval for normal colonoscopy in average risk patients'),\n",
       " (u'OP_30',\n",
       "  u'Endoscopy/polyp surveillance: colonoscopy interval for patients with a history of adenomatous polyps - avoidance of inappropriate use'),\n",
       " (u'PC_01',\n",
       "  u'Percent of newborns whose deliveries were scheduled early (1-3 weeks early), when a scheduled delivery was not medically necessary'),\n",
       " (u'STK_4', u'Thrombolytic Therapy'),\n",
       " (u'VTE_5', u'Warfarin therapy discharge instructions'),\n",
       " (u'VTE_6',\n",
       "  u'Hospital acquired potentially preventable venous thromboembolism'),\n",
       " (u'OP_4', u'Aspirin at Arrival'),\n",
       " (u'OP_5', u'Median Time to ECG'),\n",
       " (u'OP_23', u'Head CT results'),\n",
       " (u'OP_3b',\n",
       "  u'Median Time to Transfer to Another Facility for Acute Coronary Intervention'),\n",
       " (u'OP_1', u'Median Time to Fibrinolysis'),\n",
       " (u'OP_2', u'Fibrinolytic Therapy Received Within 30 Minutes of ED Arrival'),\n",
       " (u'OP_31',\n",
       "  u'Improvement in Patient\\ufffds Visual Function within 90 Days Following Cataract Surgery')]"
      ]
     },
     "execution_count": 22,
     "metadata": {},
     "output_type": "execute_result"
    }
   ],
   "source": [
    "zip(df['measure_id'].unique(), df['measure_name'].unique())"
   ]
  },
  {
   "cell_type": "code",
   "execution_count": null,
   "metadata": {
    "collapsed": true
   },
   "outputs": [],
   "source": []
  }
 ],
 "metadata": {
  "kernelspec": {
   "display_name": "Python 2",
   "language": "python",
   "name": "python2"
  },
  "language_info": {
   "codemirror_mode": {
    "name": "ipython",
    "version": 2
   },
   "file_extension": ".py",
   "mimetype": "text/x-python",
   "name": "python",
   "nbconvert_exporter": "python",
   "pygments_lexer": "ipython2",
   "version": "2.7.14"
  }
 },
 "nbformat": 4,
 "nbformat_minor": 2
}
